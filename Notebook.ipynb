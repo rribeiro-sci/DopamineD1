{
 "cells": [
  {
   "cell_type": "markdown",
   "id": "2d80a277",
   "metadata": {},
   "source": [
    "\n",
    "# Mathematical Model of Dopamine D1 receptor - Workshop\n",
    "\n",
    "In this tutorial, we will create and simulate a mathematical model of a signaling pathway of Dopamine D1 receptor. \n",
    "\n",
    "<br><br>\n",
    "\n",
    "<img src=\"https://res.cloudinary.com/djz27k5hg/image/upload/v1743961378/Screenshot_2025-04-06_at_19.41.52_fzmfxu.png\"  width=600 align='center' style=\"margin-top:30px\"/>\n",
    "\n",
    "<br><br>\n",
    "This tutorial, can be completed in Google Colab or in your computer if python, juypyter notebook is installed. If you'd like to open this notebook in Colab, you can use the following link:\n",
    "\n",
    "<div style='padding:15px'>\n",
    "<a href=\"https://colab.research.google.com/github/rribeiro-sci/DopamineD1/blob/master/Notebook.ipynb\" target=\"_blank\">\n",
    "<img alt=\"Colab\" src=\"https://res.cloudinary.com/djz27k5hg/image/upload/v1637335713/badges/colab-badge_hh0uyl.svg\" height=\"25\" style=\"margin:20px\">\n",
    "</a>\n",
    "\n",
    "    \n",
    "Reference: _*Nair, A. G. et al (2015). Sensing Positive versus Negative Reward Signals through Adenylyl Cyclase-Coupled GPCRs in Direct and Indirect Pathway Striatal Medium Spiny Neurons. The Journal of Neuroscience : the Official Journal of the Society for Neuroscience, 35(41), 14017–14030.*_ \n"
   ]
  },
  {
   "cell_type": "markdown",
   "id": "9fae7875",
   "metadata": {},
   "source": [
    "## Setting Google Collab"
   ]
  },
  {
   "cell_type": "code",
   "execution_count": null,
   "id": "2aa62119",
   "metadata": {},
   "outputs": [],
   "source": [
    "%%capture\n",
    "!pip install --quiet ssbtoolkit"
   ]
  },
  {
   "cell_type": "code",
   "execution_count": null,
   "id": "800330ec",
   "metadata": {},
   "outputs": [],
   "source": [
    "import os\n",
    "os.kill(os.getpid(), 9)"
   ]
  },
  {
   "cell_type": "markdown",
   "id": "89d92551",
   "metadata": {},
   "source": [
    "## Setting environment"
   ]
  },
  {
   "cell_type": "code",
   "execution_count": null,
   "id": "c51d4601",
   "metadata": {},
   "outputs": [],
   "source": [
    "from pysb import *\n",
    "from pysb.simulator import ScipyOdeSimulator\n",
    "from pysb.core import SelfExporter\n",
    "\n",
    "import numpy as np\n",
    "import matplotlib.pyplot as plt\n",
    "\n",
    "%matplotlib inline\n",
    "%config InlineBackend.figure_format='retina'\n",
    "\n",
    "\n",
    "import platform, site, os\n",
    "distpath = site.getsitepackages()[0]\n",
    "if platform.system() == 'Linux':\n",
    "    BioNetGen=os.path.join(distpath, 'bionetgen/bng-linux:')\n",
    "elif platform.system() == 'Darwin':\n",
    "    BioNetGen=os.path.join(distpath, 'bionetgen/bng-mac:')\n",
    "elif platform.system()=='Windows':\n",
    "    BioNetGen=os.path.join(distpath, 'bionetgen/bng-win:')\n",
    "else:\n",
    "    raise ValueError('BioNetGen error. Platform unknown!')\n",
    "os.environ['PATH']=BioNetGen+os.environ['PATH']"
   ]
  },
  {
   "cell_type": "markdown",
   "id": "901a53aa",
   "metadata": {},
   "source": [
    "## Defining the PySB model"
   ]
  },
  {
   "cell_type": "code",
   "execution_count": null,
   "id": "3df351ad",
   "metadata": {},
   "outputs": [],
   "source": [
    "# Start model\n",
    "model = Model()\n",
    "\n",
    "# Setting Monomers\n",
    "Monomer('DA', ['DA_b1'])\n",
    "Monomer('D1R', ['D1R_b1', 'D1R_p', 'D1R_s'], {'D1R_p':['p0','p1'], 'D1R_s':['i','a']})    # Dopamine receptor 1 with two binding sites: for DA and G-proteins\n",
    "Monomer('Golf', ['Golf_b1'])                                                              # Golf protein (alpha and beta/gamma complex)\n",
    "Monomer('Gi', ['Gi_b1'])\n",
    "Monomer('Gbgolf')\n",
    "Monomer('GaolfGTP', ['GaolfGTP_b1'])\n",
    "Monomer('GaolfGDP')\n",
    "\n",
    "# Setting parameters\n",
    "Parameter('kD1R_DA_1', 0.005)       # 1/(nM*s) |Association constant of the complex D1R_DA\n",
    "Parameter('kD1R_DA_2', 5.0)         # 1/s      |Dissociation constant of the complex D1R_DA\n",
    "Parameter('kD1R_DA_Golf_1', 0.003)  # 1/(nM*s) |Association constant of the complex D1R_Golf\n",
    "Parameter('kD1R_DA_Golf_2', 5.0)    # 1/s      |Dissociation constant of the complex D1R_Golf\n",
    "Parameter('kD1R_DA_Golf_decay', 15) # 1/s      |Rate of formation of\n",
    "Parameter('kGaolfGTP_decay', 30)    # 1/s      |Rate of convertion of GaolfGTP into GaolfGDP\n",
    "Parameter('kGolf_formation', 100)   # 1/s      |Rate of formation of Golf\n",
    "\n",
    "\n",
    "# Setting initials\n",
    "\n",
    "Initial(DA(DA_b1=None), Parameter('DA_init', 2000))\n",
    "Initial(D1R(D1R_b1=None, D1R_p='p0', D1R_s='i'), Parameter('D1R_0', 2000.0))   \n",
    "Initial(Golf(Golf_b1=None), Parameter('Golf_0', 2000.0)) \n",
    "\n",
    "# Setting reactions\n",
    "##Dopamine and the G-protein Coupled RECEPTORS\n",
    "'''The D1R can bind either the inactive G protein first, and then\n",
    "dopamine, or dopamine first and then and then the inactivate G protein.'''\n",
    "Rule('reaction1', D1R(D1R_b1=None, D1R_p='p0', D1R_s='i') + DA(DA_b1=None) | D1R(D1R_b1=None, D1R_p='p0', D1R_s='a'), kD1R_DA_1, kD1R_DA_2)\n",
    "Rule('reaction3', D1R(D1R_b1=None, D1R_p='p0', D1R_s='a') + Golf(Golf_b1=None) | D1R(D1R_b1=50, D1R_p='p0', D1R_s='a') % Golf(Golf_b1=50), kD1R_DA_Golf_1, kD1R_DA_Golf_2)\n",
    "Rule('reaction9', D1R(D1R_b1=50, D1R_p='p0', D1R_s='a') % Golf(Golf_b1=50) >> D1R(D1R_b1=None, D1R_p='p0', D1R_s='a') + Gbgolf() + GaolfGTP(GaolfGTP_b1=None) , kD1R_DA_Golf_decay)\n",
    "Rule('reaction10', GaolfGTP(GaolfGTP_b1=None) >> GaolfGDP(), kGaolfGTP_decay)\n",
    "Rule('reaction11', GaolfGDP() + Gbgolf() >> Golf(Golf_b1=None), kGolf_formation)\n",
    "\n",
    "# Setting Observables\n",
    "Observable('obs_DA',DA(DA_b1=None))\n",
    "Observable('obs_D1R',D1R(D1R_b1=None, D1R_p='p0', D1R_s='i'))\n",
    "Observable('obs_D1RDA',D1R(D1R_b1=None, D1R_p='p0', D1R_s='a'))\n",
    "Observable('obs_Golf',Golf(Golf_b1=None))\n",
    "Observable('obs_Gbgolf',Gbgolf())\n",
    "Observable('obs_GaolfGTP',GaolfGTP(GaolfGTP_b1=None))\n",
    "Observable('obs_GaolfGDP',GaolfGDP());\n",
    "\n",
    "\n"
   ]
  },
  {
   "cell_type": "markdown",
   "id": "ada8786f",
   "metadata": {},
   "source": [
    "## Setting simulation parameters\n"
   ]
  },
  {
   "cell_type": "code",
   "execution_count": null,
   "id": "46f06810",
   "metadata": {},
   "outputs": [],
   "source": [
    "ttime = 1     # time in seconds\n",
    "nsteps = 1000 # time step\n",
    "\n",
    "t = np.geomspace(0.00001, ttime, nsteps)\n"
   ]
  },
  {
   "cell_type": "markdown",
   "id": "17d8a53a",
   "metadata": {},
   "source": [
    "## Run Simulation"
   ]
  },
  {
   "cell_type": "code",
   "execution_count": null,
   "id": "8ebaae90",
   "metadata": {},
   "outputs": [],
   "source": [
    "simres = ScipyOdeSimulator(model, tspan=t, compiler='python').run()\n",
    "yout = simres.all"
   ]
  },
  {
   "cell_type": "markdown",
   "id": "b02a24ae",
   "metadata": {},
   "source": [
    "## Vizualize results"
   ]
  },
  {
   "cell_type": "code",
   "execution_count": null,
   "id": "fa115e3a",
   "metadata": {},
   "outputs": [],
   "source": [
    "# Create a figure for the plot\n",
    "fig, ax = plt.subplots(figsize=[10, 6])\n",
    "\n",
    "# Get data\n",
    "X = t.copy()\n",
    "Y = yout['obs_D1R']\n",
    "Y2= yout['obs_D1RDA']\n",
    "\n",
    "# Plot data\n",
    "plt.plot(X, Y, label='D1R')\n",
    "plt.plot(X, Y2, label='D1RDA')\n",
    "\n",
    "# Setting axis\n",
    "ax.set_xlabel('Autodock binding score')\n",
    "ax.set_ylabel('Count')\n",
    "\n",
    "# Display the legend\n",
    "plt.legend()\n",
    "\n",
    "# Show the plot\n",
    "plt.show()"
   ]
  }
 ],
 "metadata": {
  "kernelspec": {
   "display_name": "Python [conda env:bio]",
   "language": "python",
   "name": "conda-env-bio-py"
  },
  "language_info": {
   "codemirror_mode": {
    "name": "ipython",
    "version": 3
   },
   "file_extension": ".py",
   "mimetype": "text/x-python",
   "name": "python",
   "nbconvert_exporter": "python",
   "pygments_lexer": "ipython3",
   "version": "3.12.4"
  }
 },
 "nbformat": 4,
 "nbformat_minor": 5
}
